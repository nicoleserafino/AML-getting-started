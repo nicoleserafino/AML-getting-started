{
  "cells": [
    {
      "cell_type": "markdown",
      "source": [
        "# AzureML Basics\r\n",
        "This notebook includes an overview of accessing data, training a model, and registering/deploying a model"
      ],
      "metadata": {
        "nteract": {
          "transient": {
            "deleting": false
          }
        }
      }
    },
    {
      "cell_type": "markdown",
      "source": [
        "## Importing and installing libraries\r\n",
        "Most common data and machine learning libraries are preinstalled such as pandas, numpy, scikit learn, pytorch, tensorflow, etc."
      ],
      "metadata": {
        "nteract": {
          "transient": {
            "deleting": false
          }
        }
      }
    },
    {
      "cell_type": "code",
      "source": [
        "import pandas as pd\r\n",
        "import numpy as np\r\n",
        "from azureml.core import Datastore, Workspace, Dataset, Model\r\n",
        "from  azureml.data.dataset_factory import TabularDatasetFactory\r\n",
        "import joblib\r\n",
        "from sklearn.linear_model import Ridge\r\n",
        "from azureml.core.resource_configuration import ResourceConfiguration\r\n",
        "import sklearn\r\n",
        "import matplotlib.pyplot as plt"
      ],
      "outputs": [],
      "execution_count": 2,
      "metadata": {
        "jupyter": {
          "source_hidden": false,
          "outputs_hidden": false
        },
        "nteract": {
          "transient": {
            "deleting": false
          }
        },
        "gather": {
          "logged": 1642185415608
        }
      }
    },
    {
      "cell_type": "markdown",
      "source": [
        "To install a different library, use the following:\r\n",
        "\r\n",
        "This is intalling the transformers library from hugging face"
      ],
      "metadata": {
        "nteract": {
          "transient": {
            "deleting": false
          }
        }
      }
    },
    {
      "cell_type": "code",
      "source": [
        "!pip install transformers"
      ],
      "outputs": [],
      "execution_count": null,
      "metadata": {
        "jupyter": {
          "source_hidden": false,
          "outputs_hidden": false
        },
        "nteract": {
          "transient": {
            "deleting": false
          }
        },
        "gather": {
          "logged": 1642185905568
        }
      }
    },
    {
      "cell_type": "markdown",
      "source": [
        "### Logon to AzureML Workspace"
      ],
      "metadata": {
        "nteract": {
          "transient": {
            "deleting": false
          }
        }
      }
    },
    {
      "cell_type": "code",
      "source": [
        "# Get AML Workspace\r\n",
        "\r\n",
        "ws = Workspace.from_config()"
      ],
      "outputs": [],
      "execution_count": 10,
      "metadata": {
        "jupyter": {
          "source_hidden": false,
          "outputs_hidden": false
        },
        "nteract": {
          "transient": {
            "deleting": false
          }
        },
        "gather": {
          "logged": 1642182044514
        }
      }
    },
    {
      "cell_type": "markdown",
      "source": [
        "### Accessing Data"
      ],
      "metadata": {
        "nteract": {
          "transient": {
            "deleting": false
          }
        }
      }
    },
    {
      "cell_type": "code",
      "source": [
        "# Register datastore\r\n",
        "\r\n",
        "blob_datastore_name='trainingdata' # Name of the datastore to workspace\r\n",
        "container_name='data' # Name of Azure blob container\r\n",
        "account_name='serafinostorage' # Storage account name\r\n",
        "account_key='' # Storage account access key\r\n",
        "\r\n",
        "blob_datastore = Datastore.register_azure_blob_container(workspace=ws, \r\n",
        "                                                         datastore_name=blob_datastore_name, \r\n",
        "                                                         container_name=container_name, \r\n",
        "                                                         account_name=account_name,\r\n",
        "                                                         account_key=account_key)"
      ],
      "outputs": [],
      "execution_count": 31,
      "metadata": {
        "jupyter": {
          "source_hidden": false,
          "outputs_hidden": false
        },
        "nteract": {
          "transient": {
            "deleting": false
          }
        },
        "gather": {
          "logged": 1642183748491
        }
      }
    },
    {
      "cell_type": "code",
      "source": [
        "# Create Dataset and Register to workspace\r\n",
        "dataset = TabularDatasetFactory.from_delimited_files(path=(blob_datastore,\"diabetes_dataset.csv\"))\r\n",
        "\r\n",
        "dataset = dataset.register(workspace=ws,\r\n",
        "                                 name='diabetes',\r\n",
        "                                 description='diabetes training data', create_new_version=True)"
      ],
      "outputs": [],
      "execution_count": 32,
      "metadata": {
        "jupyter": {
          "source_hidden": false,
          "outputs_hidden": false
        },
        "nteract": {
          "transient": {
            "deleting": false
          }
        },
        "gather": {
          "logged": 1642183773496
        }
      }
    },
    {
      "cell_type": "markdown",
      "source": [
        "### Consuming Data"
      ],
      "metadata": {
        "nteract": {
          "transient": {
            "deleting": false
          }
        }
      }
    },
    {
      "cell_type": "code",
      "source": [
        "# then simply use this code to get the handle to the dataset\r\n",
        "diabetes = ws.datasets['diabetes']\r\n",
        "\r\n",
        "# Get data in Pandas format and develop\r\n",
        "df = dataset.to_pandas_dataframe()"
      ],
      "outputs": [],
      "execution_count": 34,
      "metadata": {
        "jupyter": {
          "source_hidden": false,
          "outputs_hidden": false
        },
        "nteract": {
          "transient": {
            "deleting": false
          }
        },
        "gather": {
          "logged": 1642183948801
        }
      }
    },
    {
      "cell_type": "markdown",
      "source": [
        "### EDA and Transformations"
      ],
      "metadata": {
        "nteract": {
          "transient": {
            "deleting": false
          }
        }
      }
    },
    {
      "cell_type": "code",
      "source": [
        "df[['AGE']].plot.hist(bins=20,title='Age')"
      ],
      "outputs": [
        {
          "output_type": "execute_result",
          "execution_count": 53,
          "data": {
            "text/plain": "<matplotlib.axes._subplots.AxesSubplot at 0x7f3c829143c8>"
          },
          "metadata": {}
        },
        {
          "output_type": "display_data",
          "data": {
            "text/plain": "<Figure size 432x288 with 1 Axes>",
            "image/png": "[encoded data removed]"
          },
          "metadata": {
            "needs_background": "light"
          }
        }
      ],
      "execution_count": null,
      "metadata": {
        "jupyter": {
          "source_hidden": false,
          "outputs_hidden": false
        },
        "nteract": {
          "transient": {
            "deleting": false
          }
        },
        "gather": {
          "logged": 1642185468872
        }
      }
    },
    {
      "cell_type": "code",
      "source": [
        "df['SEX'].value_counts().plot.bar(title='SEX')"
      ],
      "outputs": [
        {
          "output_type": "execute_result",
          "execution_count": 54,
          "data": {
            "text/plain": "<matplotlib.axes._subplots.AxesSubplot at 0x7f3c42120e10>"
          },
          "metadata": {}
        },
        {
          "output_type": "display_data",
          "data": {
            "text/plain": "<Figure size 432x288 with 1 Axes>",
            "image/png": "[encoded data removed]"
          },
          "metadata": {
            "needs_background": "light"
          }
        }
      ],
      "execution_count": null,
      "metadata": {
        "jupyter": {
          "source_hidden": false,
          "outputs_hidden": false
        },
        "nteract": {
          "transient": {
            "deleting": false
          }
        },
        "gather": {
          "logged": 1642185523542
        }
      }
    },
    {
      "cell_type": "code",
      "source": [
        "corr = df[['AGE','BP','BMI','Y']].corr()\r\n",
        "corr.style.background_gradient(cmap='coolwarm').set_precision(2)"
      ],
      "outputs": [
        {
          "output_type": "execute_result",
          "execution_count": 56,
          "data": {
            "text/plain": "<pandas.io.formats.style.Styler at 0x7f3c42082f60>",
            "text/html": "<style  type=\"text/css\" >\n    #T_51778404_7569_11ec_891e_3d8f73d781acrow0_col0 {\n            background-color:  #b40426;\n            color:  #f1f1f1;\n        }    #T_51778404_7569_11ec_891e_3d8f73d781acrow0_col1 {\n            background-color:  #3b4cc0;\n            color:  #f1f1f1;\n        }    #T_51778404_7569_11ec_891e_3d8f73d781acrow0_col2 {\n            background-color:  #3b4cc0;\n            color:  #f1f1f1;\n        }    #T_51778404_7569_11ec_891e_3d8f73d781acrow0_col3 {\n            background-color:  #3b4cc0;\n            color:  #f1f1f1;\n        }    #T_51778404_7569_11ec_891e_3d8f73d781acrow1_col0 {\n            background-color:  #7699f6;\n            color:  #000000;\n        }    #T_51778404_7569_11ec_891e_3d8f73d781acrow1_col1 {\n            background-color:  #b40426;\n            color:  #f1f1f1;\n        }    #T_51778404_7569_11ec_891e_3d8f73d781acrow1_col2 {\n            background-color:  #90b2fe;\n            color:  #000000;\n        }    #T_51778404_7569_11ec_891e_3d8f73d781acrow1_col3 {\n            background-color:  #a2c1ff;\n            color:  #000000;\n        }    #T_51778404_7569_11ec_891e_3d8f73d781acrow2_col0 {\n            background-color:  #3b4cc0;\n            color:  #f1f1f1;\n        }    #T_51778404_7569_11ec_891e_3d8f73d781acrow2_col1 {\n            background-color:  #5673e0;\n            color:  #000000;\n        }    #T_51778404_7569_11ec_891e_3d8f73d781acrow2_col2 {\n            background-color:  #b40426;\n            color:  #f1f1f1;\n        }    #T_51778404_7569_11ec_891e_3d8f73d781acrow2_col3 {\n            background-color:  #dadce0;\n            color:  #000000;\n        }    #T_51778404_7569_11ec_891e_3d8f73d781acrow3_col0 {\n            background-color:  #3b4cc0;\n            color:  #f1f1f1;\n        }    #T_51778404_7569_11ec_891e_3d8f73d781acrow3_col1 {\n            background-color:  #6c8ff1;\n            color:  #000000;\n        }    #T_51778404_7569_11ec_891e_3d8f73d781acrow3_col2 {\n            background-color:  #dbdcde;\n            color:  #000000;\n        }    #T_51778404_7569_11ec_891e_3d8f73d781acrow3_col3 {\n            background-color:  #b40426;\n            color:  #f1f1f1;\n        }</style><table id=\"T_51778404_7569_11ec_891e_3d8f73d781ac\" ><thead>    <tr>        <th class=\"blank level0\" ></th>        <th class=\"col_heading level0 col0\" >AGE</th>        <th class=\"col_heading level0 col1\" >BP</th>        <th class=\"col_heading level0 col2\" >BMI</th>        <th class=\"col_heading level0 col3\" >Y</th>    </tr></thead><tbody>\n                <tr>\n                        <th id=\"T_51778404_7569_11ec_891e_3d8f73d781aclevel0_row0\" class=\"row_heading level0 row0\" >AGE</th>\n                        <td id=\"T_51778404_7569_11ec_891e_3d8f73d781acrow0_col0\" class=\"data row0 col0\" >1</td>\n                        <td id=\"T_51778404_7569_11ec_891e_3d8f73d781acrow0_col1\" class=\"data row0 col1\" >0.34</td>\n                        <td id=\"T_51778404_7569_11ec_891e_3d8f73d781acrow0_col2\" class=\"data row0 col2\" >0.19</td>\n                        <td id=\"T_51778404_7569_11ec_891e_3d8f73d781acrow0_col3\" class=\"data row0 col3\" >0.19</td>\n            </tr>\n            <tr>\n                        <th id=\"T_51778404_7569_11ec_891e_3d8f73d781aclevel0_row1\" class=\"row_heading level0 row1\" >BP</th>\n                        <td id=\"T_51778404_7569_11ec_891e_3d8f73d781acrow1_col0\" class=\"data row1 col0\" >0.34</td>\n                        <td id=\"T_51778404_7569_11ec_891e_3d8f73d781acrow1_col1\" class=\"data row1 col1\" >1</td>\n                        <td id=\"T_51778404_7569_11ec_891e_3d8f73d781acrow1_col2\" class=\"data row1 col2\" >0.4</td>\n                        <td id=\"T_51778404_7569_11ec_891e_3d8f73d781acrow1_col3\" class=\"data row1 col3\" >0.44</td>\n            </tr>\n            <tr>\n                        <th id=\"T_51778404_7569_11ec_891e_3d8f73d781aclevel0_row2\" class=\"row_heading level0 row2\" >BMI</th>\n                        <td id=\"T_51778404_7569_11ec_891e_3d8f73d781acrow2_col0\" class=\"data row2 col0\" >0.19</td>\n                        <td id=\"T_51778404_7569_11ec_891e_3d8f73d781acrow2_col1\" class=\"data row2 col1\" >0.4</td>\n                        <td id=\"T_51778404_7569_11ec_891e_3d8f73d781acrow2_col2\" class=\"data row2 col2\" >1</td>\n                        <td id=\"T_51778404_7569_11ec_891e_3d8f73d781acrow2_col3\" class=\"data row2 col3\" >0.59</td>\n            </tr>\n            <tr>\n                        <th id=\"T_51778404_7569_11ec_891e_3d8f73d781aclevel0_row3\" class=\"row_heading level0 row3\" >Y</th>\n                        <td id=\"T_51778404_7569_11ec_891e_3d8f73d781acrow3_col0\" class=\"data row3 col0\" >0.19</td>\n                        <td id=\"T_51778404_7569_11ec_891e_3d8f73d781acrow3_col1\" class=\"data row3 col1\" >0.44</td>\n                        <td id=\"T_51778404_7569_11ec_891e_3d8f73d781acrow3_col2\" class=\"data row3 col2\" >0.59</td>\n                        <td id=\"T_51778404_7569_11ec_891e_3d8f73d781acrow3_col3\" class=\"data row3 col3\" >1</td>\n            </tr>\n    </tbody></table>"
          },
          "metadata": {}
        }
      ],
      "execution_count": null,
      "metadata": {
        "jupyter": {
          "source_hidden": false,
          "outputs_hidden": false
        },
        "nteract": {
          "transient": {
            "deleting": false
          }
        },
        "gather": {
          "logged": 1642185573750
        }
      }
    },
    {
      "cell_type": "markdown",
      "source": [
        "#### Register dataframe as a dataset\r\n",
        "If you made any transformations to your data, you can optionally register your dataset again to save these changes. You may want to save it as a new name to not overwrite your raw dataset."
      ],
      "metadata": {
        "nteract": {
          "transient": {
            "deleting": false
          }
        }
      }
    },
    {
      "cell_type": "code",
      "source": [
        "# Register dataset from pandas dataframe to save transformed dataset\r\n",
        "dataset = Dataset.Tabular.register_pandas_dataframe(df, blob_datastore, \"diabetes_1\", show_progress=True)"
      ],
      "outputs": [
        {
          "output_type": "stream",
          "name": "stderr",
          "text": "Method register_pandas_dataframe: This is an experimental method, and may change at any time. Please see https://aka.ms/azuremlexperimental for more information.\n"
        },
        {
          "output_type": "stream",
          "name": "stdout",
          "text": "Validating arguments.\nArguments validated.\nSuccessfully obtained datastore reference and path.\nUploading file to managed-dataset/5a31bd80-5e92-4ff9-b3e3-61dc7b8b5422/\nSuccessfully uploaded file to datastore.\nCreating and registering a new dataset.\nSuccessfully created and registered a new dataset.\n"
        }
      ],
      "execution_count": 48,
      "metadata": {
        "jupyter": {
          "source_hidden": false,
          "outputs_hidden": false
        },
        "nteract": {
          "transient": {
            "deleting": false
          }
        },
        "gather": {
          "logged": 1642184728493
        }
      }
    },
    {
      "cell_type": "markdown",
      "source": [
        "### Modeling"
      ],
      "metadata": {
        "nteract": {
          "transient": {
            "deleting": false
          }
        }
      }
    },
    {
      "cell_type": "code",
      "source": [
        "# get dataset and split to x and y\r\n",
        "diabetes = ws.datasets['diabetes']\r\n",
        "X = diabetes.drop_columns(\"Y\")\r\n",
        "y = diabetes.keep_columns(\"Y\")\r\n",
        "X_df = X.to_pandas_dataframe()\r\n",
        "y_df = y.to_pandas_dataframe()\r\n",
        "X_df.info()"
      ],
      "outputs": [
        {
          "output_type": "stream",
          "name": "stdout",
          "text": "<class 'pandas.core.frame.DataFrame'>\nRangeIndex: 442 entries, 0 to 441\nData columns (total 10 columns):\nAGE    442 non-null int64\nSEX    442 non-null int64\nBMI    442 non-null float64\nBP     442 non-null float64\nS1     442 non-null int64\nS2     442 non-null float64\nS3     442 non-null float64\nS4     442 non-null float64\nS5     442 non-null float64\nS6     442 non-null int64\ndtypes: float64(6), int64(4)\nmemory usage: 34.7 KB\n"
        }
      ],
      "execution_count": 50,
      "metadata": {
        "jupyter": {
          "source_hidden": false,
          "outputs_hidden": false
        },
        "nteract": {
          "transient": {
            "deleting": false
          }
        },
        "gather": {
          "logged": 1642184784483
        }
      }
    },
    {
      "cell_type": "markdown",
      "source": [
        "#### Training"
      ],
      "metadata": {
        "nteract": {
          "transient": {
            "deleting": false
          }
        }
      }
    },
    {
      "cell_type": "code",
      "source": [
        "# train model and save output in pickle file\r\n",
        "\r\n",
        "model = Ridge().fit(X_df,y_df)\r\n",
        "joblib.dump(model, 'sklearn_regression_model.pkl')"
      ],
      "outputs": [
        {
          "output_type": "execute_result",
          "execution_count": 51,
          "data": {
            "text/plain": "['sklearn_regression_model.pkl']"
          },
          "metadata": {}
        }
      ],
      "execution_count": 51,
      "metadata": {
        "jupyter": {
          "source_hidden": false,
          "outputs_hidden": false
        },
        "nteract": {
          "transient": {
            "deleting": false
          }
        },
        "gather": {
          "logged": 1642184793872
        }
      }
    },
    {
      "cell_type": "markdown",
      "source": [
        "#### Registering\r\n",
        "Now that we saved our model, we can now use that file to register it so that we can use that to deploy it."
      ],
      "metadata": {
        "nteract": {
          "transient": {
            "deleting": false
          }
        }
      }
    },
    {
      "cell_type": "code",
      "source": [
        "# register model to deploy\r\n",
        "\r\n",
        "model = Model.register(workspace=ws,\r\n",
        "                       model_name='my-sklearn-model',                # Name of the registered model in your workspace.\r\n",
        "                       model_path='./sklearn_regression_model.pkl',  # Local file to upload and register as a model.\r\n",
        "                       model_framework=Model.Framework.SCIKITLEARN,  # Framework used to create the model.\r\n",
        "                       model_framework_version=sklearn.__version__,  # Version of scikit-learn used to create the model.\r\n",
        "                       sample_input_dataset=X,\r\n",
        "                       sample_output_dataset=y,\r\n",
        "                       resource_configuration=ResourceConfiguration(cpu=2, memory_in_gb=4),\r\n",
        "                       description='Ridge regression model to predict diabetes progression.',\r\n",
        "                       tags={'area': 'diabetes', 'type': 'regression'})\r\n",
        "\r\n",
        "print('Name:', model.name)\r\n",
        "print('Version:', model.version)"
      ],
      "outputs": [
        {
          "output_type": "stream",
          "name": "stdout",
          "text": "Registering model my-sklearn-model\nName: my-sklearn-model\nVersion: 1\n"
        }
      ],
      "execution_count": 4,
      "metadata": {
        "jupyter": {
          "source_hidden": false,
          "outputs_hidden": false
        },
        "nteract": {
          "transient": {
            "deleting": false
          }
        },
        "gather": {
          "logged": 1642179759517
        }
      }
    },
    {
      "cell_type": "markdown",
      "source": [
        "#### Deployment\r\n",
        "Now that our model is registered, we can deploy it."
      ],
      "metadata": {
        "nteract": {
          "transient": {
            "deleting": false
          }
        }
      }
    },
    {
      "cell_type": "markdown",
      "source": [
        "Step 1: Create score file"
      ],
      "metadata": {
        "nteract": {
          "transient": {
            "deleting": false
          }
        }
      }
    },
    {
      "cell_type": "code",
      "source": [
        "%%writefile score.py\r\n",
        "\r\n",
        "import json\r\n",
        "import pickle\r\n",
        "import numpy as np\r\n",
        "import pandas as pd\r\n",
        "import os\r\n",
        "import joblib\r\n",
        "from azureml.core.model import Model\r\n",
        "\r\n",
        "from inference_schema.schema_decorators import input_schema, output_schema\r\n",
        "from inference_schema.parameter_types.numpy_parameter_type import NumpyParameterType\r\n",
        "from inference_schema.parameter_types.pandas_parameter_type import PandasParameterType\r\n",
        "\r\n",
        "\r\n",
        "def init():\r\n",
        "    global model\r\n",
        "    # Replace filename if needed.\r\n",
        "    path = os.getenv('AZUREML_MODEL_DIR') \r\n",
        "    model_path = os.path.join(path, 'sklearn_regression_model.pkl')\r\n",
        "    # Deserialize the model file back into a sklearn model.\r\n",
        "    model = joblib.load(model_path)\r\n",
        "\r\n",
        "\r\n",
        "input_sample = pd.DataFrame(data=[{\r\n",
        "    \"AGE\": 5,\r\n",
        "    \"SEX\": 2,\r\n",
        "    \"BMI\": 3.1,\r\n",
        "    \"BP\": 3.1,\r\n",
        "    \"S1\": 3.1,\r\n",
        "    \"S2\": 3.1,\r\n",
        "    \"S3\": 3.1,\r\n",
        "    \"S4\": 3.1,\r\n",
        "    \"S5\": 3.1,\r\n",
        "    \"S6\": 3.1\r\n",
        "}])\r\n",
        "\r\n",
        "# This is an integer type sample. Use the data type that reflects the expected result.\r\n",
        "output_sample = np.array([0])\r\n",
        "\r\n",
        "# To indicate that we support a variable length of data input,\r\n",
        "# set enforce_shape=False\r\n",
        "@input_schema('data', PandasParameterType(input_sample))\r\n",
        "@output_schema(NumpyParameterType(output_sample))\r\n",
        "def run(data):\r\n",
        "    try:\r\n",
        "        print(\"input_data....\")\r\n",
        "        print(data.columns)\r\n",
        "        print(type(data))\r\n",
        "        result = model.predict(data)\r\n",
        "        print(\"result.....\")\r\n",
        "        print(result)\r\n",
        "    # You can return any data type, as long as it can be serialized by JSON.\r\n",
        "        return result.tolist()\r\n",
        "    except Exception as e:\r\n",
        "        error = str(e)\r\n",
        "        return error"
      ],
      "outputs": [
        {
          "output_type": "stream",
          "name": "stdout",
          "text": "Writing score.py\n"
        }
      ],
      "execution_count": 5,
      "metadata": {
        "jupyter": {
          "source_hidden": false,
          "outputs_hidden": false
        },
        "nteract": {
          "transient": {
            "deleting": false
          }
        }
      }
    },
    {
      "cell_type": "markdown",
      "source": [
        "Step 2: Define environment"
      ],
      "metadata": {
        "nteract": {
          "transient": {
            "deleting": false
          }
        }
      }
    },
    {
      "cell_type": "code",
      "source": [
        "from azureml.core.model import InferenceConfig\r\n",
        "from azureml.core import Environment\r\n",
        "from azureml.core.conda_dependencies import CondaDependencies\r\n",
        "\r\n",
        "environment = Environment('my-sklearn-environment')\r\n",
        "environment.python.conda_dependencies = CondaDependencies.create(pip_packages=[\r\n",
        "    'azureml-defaults',\r\n",
        "    'inference-schema[numpy-support]',\r\n",
        "    'joblib',\r\n",
        "    'numpy',\r\n",
        "    'pandas',\r\n",
        "    'scikit-learn=={}'.format(sklearn.__version__)\r\n",
        "])\r\n",
        "\r\n",
        "inference_config = InferenceConfig(entry_script='./score.py',environment=environment)"
      ],
      "outputs": [],
      "execution_count": 7,
      "metadata": {
        "jupyter": {
          "source_hidden": false,
          "outputs_hidden": false
        },
        "nteract": {
          "transient": {
            "deleting": false
          }
        },
        "gather": {
          "logged": 1642179861666
        }
      }
    },
    {
      "cell_type": "markdown",
      "source": [
        "Step 3: Deploy"
      ],
      "metadata": {
        "nteract": {
          "transient": {
            "deleting": false
          }
        }
      }
    },
    {
      "cell_type": "code",
      "source": [
        "service_name = 'my-diabetes-model'\r\n",
        "\r\n",
        "service = Model.deploy(ws, service_name, [model], inference_config, overwrite=True)\r\n",
        "service.wait_for_deployment(show_output=True)"
      ],
      "outputs": [
        {
          "output_type": "stream",
          "name": "stdout",
          "text": "Tips: You can try get_logs(): https://aka.ms/debugimage#dockerlog or local deployment: https://aka.ms/debugimage#debug-locally to debug if deployment takes longer than 10 minutes.\nRunning\n2022-01-14 17:06:01+00:00 Creating Container Registry if not exists.\n2022-01-14 17:06:01+00:00 Registering the environment.\n2022-01-14 17:06:03+00:00 Building image..\n2022-01-14 17:11:31+00:00 Generating deployment configuration.\n2022-01-14 17:11:32+00:00 Submitting deployment to compute..\n2022-01-14 17:11:36+00:00 Checking the status of deployment my-diabetes-model..\n2022-01-14 17:14:00+00:00 Checking the status of inference endpoint my-diabetes-model.\nSucceeded\nACI service creation operation finished, operation \"Succeeded\"\n"
        }
      ],
      "execution_count": 8,
      "metadata": {
        "jupyter": {
          "source_hidden": false,
          "outputs_hidden": false
        },
        "nteract": {
          "transient": {
            "deleting": false
          }
        },
        "gather": {
          "logged": 1642180448864
        }
      }
    },
    {
      "cell_type": "markdown",
      "source": [
        "Step 4: Test deployment once succeded"
      ],
      "metadata": {
        "nteract": {
          "transient": {
            "deleting": false
          }
        }
      }
    },
    {
      "cell_type": "code",
      "source": [
        "# test deployment\r\n",
        "\r\n",
        "import json\r\n",
        "\r\n",
        "input_payload = json.dumps({\r\n",
        "    'data': X_df[0:2].values.tolist()\r\n",
        "})\r\n",
        "\r\n",
        "output = service.run(input_payload)\r\n",
        "\r\n",
        "print(output)"
      ],
      "outputs": [
        {
          "output_type": "stream",
          "name": "stdout",
          "text": "[[205.59094435613133], [68.84146418576978]]\n"
        }
      ],
      "execution_count": 9,
      "metadata": {
        "jupyter": {
          "source_hidden": false,
          "outputs_hidden": false
        },
        "nteract": {
          "transient": {
            "deleting": false
          }
        },
        "gather": {
          "logged": 1642181205656
        }
      }
    },
    {
      "cell_type": "code",
      "source": [],
      "outputs": [],
      "execution_count": null,
      "metadata": {
        "jupyter": {
          "source_hidden": false,
          "outputs_hidden": false
        },
        "nteract": {
          "transient": {
            "deleting": false
          }
        }
      }
    }
  ],
  "metadata": {
    "kernelspec": {
      "name": "python3-azureml",
      "language": "python",
      "display_name": "Python 3.6 - AzureML"
    },
    "language_info": {
      "name": "python",
      "version": "3.6.9",
      "mimetype": "text/x-python",
      "codemirror_mode": {
        "name": "ipython",
        "version": 3
      },
      "pygments_lexer": "ipython3",
      "nbconvert_exporter": "python",
      "file_extension": ".py"
    },
    "kernel_info": {
      "name": "python3-azureml"
    },
    "nteract": {
      "version": "nteract-front-end@1.0.0"
    },
    "microsoft": {
      "host": {
        "AzureML": {
          "notebookHasBeenCompleted": true
        }
      }
    }
  },
  "nbformat": 4,
  "nbformat_minor": 0
}